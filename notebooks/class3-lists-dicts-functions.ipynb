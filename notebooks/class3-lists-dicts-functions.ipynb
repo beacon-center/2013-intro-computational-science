{
 "metadata": {
  "name": ""
 },
 "nbformat": 3,
 "nbformat_minor": 0,
 "worksheets": [
  {
   "cells": [
    {
     "cell_type": "markdown",
     "metadata": {},
     "source": [
      "## Please copy this note book to a new name!"
     ]
    },
    {
     "cell_type": "markdown",
     "metadata": {},
     "source": [
      "# Lists\n",
      "\n",
      "* Put objects into a container;\n",
      "* labelled by position;\n",
      "* retrieve them by position, OR iterate over them."
     ]
    },
    {
     "cell_type": "code",
     "collapsed": false,
     "input": [
      "some_list = []\n",
      "some_list.append(5)\n",
      "some_list.append(6)\n",
      "some_list.append(7)\n",
      "\n",
      "print some_list\n",
      "for item in some_list:\n",
      "    print item"
     ],
     "language": "python",
     "metadata": {},
     "outputs": []
    },
    {
     "cell_type": "code",
     "collapsed": false,
     "input": [
      "# Write out in either English pseudocode (\"do this, do that\") or in Python code,\n",
      "# how to calculate the average of the numbers in some_list."
     ],
     "language": "python",
     "metadata": {},
     "outputs": []
    },
    {
     "cell_type": "markdown",
     "metadata": {},
     "source": [
      "# Dictionaries\n",
      "\n",
      "* put things into a container, labeled with a name;\n",
      "* retrieve them;\n",
      "* iterate over labels/names"
     ]
    },
    {
     "cell_type": "code",
     "collapsed": false,
     "input": [
      "# for example, combining lists [] and dicts {} can be useful:\n",
      "letters_list = ['a', 'b', 'c', 'd', 'e']\n",
      "\n",
      "letters_dict = {}\n",
      "\n",
      "for i in range(len(letters_list)):\n",
      "    single_letter = letters_list[i]\n",
      "    letters_dict[single_letter] = i"
     ],
     "language": "python",
     "metadata": {},
     "outputs": []
    },
    {
     "cell_type": "markdown",
     "metadata": {},
     "source": [
      "### Exercise"
     ]
    },
    {
     "cell_type": "code",
     "collapsed": false,
     "input": [
      "some_list = [\"duck\", \"goose\", \"mouse\", \"mouse\", \"mouse\", \"duck\"]\n",
      "\n",
      "counts = {}\n",
      "counts[\"duck\"] = 0\n",
      "\n",
      "for item in some_list:\n",
      "    if item == \"duck\":\n",
      "        counts[\"duck\"] += 1"
     ],
     "language": "python",
     "metadata": {},
     "outputs": []
    },
    {
     "cell_type": "code",
     "collapsed": false,
     "input": [
      "## Write out in either English pseudocode, or in Python code,\n",
      "## how to generically count the number of times *each* item in some_list is there."
     ],
     "language": "python",
     "metadata": {},
     "outputs": []
    },
    {
     "cell_type": "markdown",
     "metadata": {},
     "source": [
      "# Functions\n",
      "\n",
      "Functions encapsulate code to make it reusable by making it generic and labelling it."
     ]
    },
    {
     "cell_type": "code",
     "collapsed": false,
     "input": [
      "def add_two_numbers(a, b):\n",
      "    c = a + b\n",
      "    return c\n",
      "\n",
      "add_two_numbers(5, 10)"
     ],
     "language": "python",
     "metadata": {},
     "outputs": []
    },
    {
     "cell_type": "markdown",
     "metadata": {},
     "source": [
      "### Exercise\n",
      "\n",
      "Write functions for one or both of the above exercises; e.g."
     ]
    },
    {
     "cell_type": "code",
     "collapsed": false,
     "input": [
      "# make the below code work by defining a new function, 'average'\n",
      "\n",
      "some_list = []\n",
      "some_list.append(5)\n",
      "some_list.append(6)\n",
      "some_list.append(7)\n",
      "print average(some_list)"
     ],
     "language": "python",
     "metadata": {},
     "outputs": []
    },
    {
     "cell_type": "code",
     "collapsed": false,
     "input": [
      "some_list = [\"duck\", \"goose\", \"mouse\", \"mouse\", \"mouse\", \"duck\"]\n",
      "\n",
      "counts_dict = count_items(some_list)\n",
      "print \"duck shows up\", counts_dict[\"duck\"], \"times\""
     ],
     "language": "python",
     "metadata": {},
     "outputs": []
    },
    {
     "cell_type": "code",
     "collapsed": false,
     "input": [],
     "language": "python",
     "metadata": {},
     "outputs": []
    }
   ],
   "metadata": {}
  }
 ]
}