{
 "metadata": {
  "gist_id": "Error: No such file or directory - usrlocalnotebooksNo",
  "name": "class3-lists-dicts-functions"
 },
 "nbformat": 3,
 "nbformat_minor": 0,
 "worksheets": [
  {
   "cells": [
    {
     "cell_type": "markdown",
     "metadata": {},
     "source": [
      "# Lists\n",
      "\n",
      "* Put objects into a container;\n",
      "* labelled by position;\n",
      "* retrieve them by position, OR iterate over them."
     ]
    },
    {
     "cell_type": "code",
     "collapsed": false,
     "input": [
      "some_list = []\n",
      "some_list.append(5)\n",
      "some_list.append(6)\n",
      "some_list.append(7)\n",
      "\n",
      "print some_list\n",
      "for item in some_list:\n",
      "    print item"
     ],
     "language": "python",
     "metadata": {},
     "outputs": []
    },
    {
     "cell_type": "markdown",
     "metadata": {},
     "source": [
      "### HW 3.1"
     ]
    },
    {
     "cell_type": "code",
     "collapsed": false,
     "input": [
      "# Write Python code to calculate the average of the numbers in some_list; it should work for any set of numbers in some_list."
     ],
     "language": "python",
     "metadata": {},
     "outputs": []
    },
    {
     "cell_type": "markdown",
     "metadata": {},
     "source": [
      "# Dictionaries\n",
      "\n",
      "* put things into a container, labeled with a name;\n",
      "* retrieve them;\n",
      "* iterate over labels/names"
     ]
    },
    {
     "cell_type": "code",
     "collapsed": false,
     "input": [
      "# for example, combining lists [] and dicts {} can be useful:\n",
      "letters_list = ['a', 'b', 'c', 'd', 'e']\n",
      "\n",
      "letters_dict = {}\n",
      "\n",
      "for i in range(len(letters_list)):\n",
      "    single_letter = letters_list[i]\n",
      "    letters_dict[single_letter] = i"
     ],
     "language": "python",
     "metadata": {},
     "outputs": []
    },
    {
     "cell_type": "markdown",
     "metadata": {},
     "source": [
      "### HW 3.2"
     ]
    },
    {
     "cell_type": "code",
     "collapsed": false,
     "input": [
      "some_list = [\"duck\", \"goose\", \"mouse\", \"mouse\", \"mouse\", \"duck\"]\n",
      "\n",
      "counts = {}\n",
      "counts[\"duck\"] = 0\n",
      "\n",
      "for item in some_list:\n",
      "    if item == \"duck\":\n",
      "        counts[\"duck\"] += 1"
     ],
     "language": "python",
     "metadata": {},
     "outputs": []
    },
    {
     "cell_type": "code",
     "collapsed": false,
     "input": [
      "## Write Python code to generically count the number of times *each* item in some_list is there.\n",
      "## The output should be in dictionary format, e.g. 'print counts[\"duck\"]' should show '2'."
     ],
     "language": "python",
     "metadata": {},
     "outputs": []
    },
    {
     "cell_type": "markdown",
     "metadata": {},
     "source": [
      "# Functions\n",
      "\n",
      "Functions encapsulate code to make it reusable by making it generic and labelling it."
     ]
    },
    {
     "cell_type": "code",
     "collapsed": false,
     "input": [
      "def add_two_numbers(a, b):\n",
      "    c = a + b\n",
      "    return c\n",
      "\n",
      "add_two_numbers(5, 10)"
     ],
     "language": "python",
     "metadata": {},
     "outputs": []
    },
    {
     "cell_type": "markdown",
     "metadata": {},
     "source": [
      "### HW 3.3\n",
      "\n",
      "Write functions for one or both of the above exercises; e.g."
     ]
    },
    {
     "cell_type": "code",
     "collapsed": false,
     "input": [
      "# make the below code work by defining a new function, 'average'\n",
      "\n",
      "some_list = []\n",
      "some_list.append(5)\n",
      "some_list.append(6)\n",
      "some_list.append(7)\n",
      "print average(some_list)"
     ],
     "language": "python",
     "metadata": {},
     "outputs": []
    },
    {
     "cell_type": "code",
     "collapsed": false,
     "input": [
      "some_list = [\"duck\", \"goose\", \"mouse\", \"mouse\", \"mouse\", \"duck\"]\n",
      "\n",
      "counts_dict = count_items(some_list)\n",
      "print \"duck shows up\", counts_dict[\"duck\"], \"times\""
     ],
     "language": "python",
     "metadata": {},
     "outputs": []
    },
    {
     "cell_type": "markdown",
     "metadata": {},
     "source": [
      "## Upload your homework\n",
      "\n",
      "When you're done, save the file and run the following cell.  It will give you a URL like 'https://gist.github.com/7036805'.  Take the number at the end and go to 'http://nbviewer.ipython.org' and enter it into the box; hit enter.  You should see a static version of your notebook.  Send me that URL as part of your homework hand-in (e.g. http://nbviewer.ipython.org/7036805)."
     ]
    },
    {
     "cell_type": "code",
     "collapsed": true,
     "input": [
      "!gist class3-lists-dicts-functions.ipynb"
     ],
     "language": "python",
     "metadata": {},
     "outputs": [
      {
       "output_type": "stream",
       "stream": "stdout",
       "text": [
        "https://gist.github.com/7036800\r\n"
       ]
      }
     ],
     "prompt_number": 4
    }
   ],
   "metadata": {}
  }
 ]
}